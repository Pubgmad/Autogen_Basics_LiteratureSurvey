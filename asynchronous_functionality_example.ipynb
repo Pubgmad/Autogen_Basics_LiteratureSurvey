{
 "cells": [
  {
   "cell_type": "markdown",
   "id": "6f2e74f4",
   "metadata": {},
   "source": [
    "# Synchronous version [if one process is done only next process can be started] \n",
    "\n"
   ]
  },
  {
   "cell_type": "code",
   "execution_count": 2,
   "id": "f306807f",
   "metadata": {},
   "outputs": [
    {
     "name": "stdout",
     "output_type": "stream",
     "text": [
      "Brewing Coffee\n",
      "Coffee Ready\n",
      "Toasting Bagel\n",
      "Bagel Ready\n",
      "Time : 5.03 minutes\n"
     ]
    }
   ],
   "source": [
    "import time\n",
    "def brew_coffee():\n",
    "    print(\"Brewing Coffee\")\n",
    "    time.sleep(3) # 3 Minutes\n",
    "    print(\"Coffee Ready\")\n",
    "\n",
    "def toast_bagel():\n",
    "    print(\"Toasting Bagel\")\n",
    "    time.sleep(2) # 2 Minutes\n",
    "    print(\"Bagel Ready\")\n",
    "\n",
    "\n",
    "def main():\n",
    "    start = time.time()\n",
    "\n",
    "    coffee = brew_coffee()\n",
    "    # time.sleep(2)\n",
    "    bagel = toast_bagel()\n",
    "\n",
    "    end = time.time()\n",
    "\n",
    "\n",
    "    print(f\"Time : {end - start:.2f} minutes\")\n",
    "\n",
    "main()"
   ]
  },
  {
   "cell_type": "markdown",
   "id": "e1a6761c",
   "metadata": {},
   "source": [
    "# Asynchronous version\n"
   ]
  },
  {
   "cell_type": "code",
   "execution_count": 4,
   "id": "77d01c27",
   "metadata": {},
   "outputs": [
    {
     "name": "stdout",
     "output_type": "stream",
     "text": [
      "Starting Brewing Coffee\n",
      "Start Toasting bagel\n",
      "Bagel Ready\n",
      "Coffee Ready\n",
      "Time : 3.00 minutes\n"
     ]
    }
   ],
   "source": [
    "import asyncio\n",
    "import time\n",
    "\n",
    "async def brew_coffee():\n",
    "    print(\"Starting Brewing Coffee\")\n",
    "    await asyncio.sleep(3)\n",
    "    print(\"Coffee Ready\")\n",
    "\n",
    "async def toast_bagel():\n",
    "    print(\"Start Toasting bagel\")\n",
    "    await asyncio.sleep(2)\n",
    "    print(\"Bagel Ready\")\n",
    "\n",
    "\n",
    "async def main():\n",
    "    start = time.time()\n",
    "\n",
    "    coffee = brew_coffee()\n",
    "    bagel = toast_bagel()\n",
    "\n",
    "    results = await asyncio.gather(coffee,bagel)\n",
    "\n",
    "    end = time.time()\n",
    "\n",
    "    print(f\"Time : {end - start:.2f} minutes\")\n",
    "\n",
    "\n",
    "await main()"
   ]
  },
  {
   "cell_type": "markdown",
   "id": "bb2b12e4",
   "metadata": {},
   "source": [
    "# With Tasks"
   ]
  },
  {
   "cell_type": "code",
   "execution_count": 5,
   "id": "0511753a",
   "metadata": {},
   "outputs": [
    {
     "name": "stdout",
     "output_type": "stream",
     "text": [
      "Starting Brewing Coffee\n",
      "Start Toasting bagel\n",
      "Bagel Ready\n",
      "Coffee Ready\n",
      "Time : 3.01 minutes\n"
     ]
    }
   ],
   "source": [
    "import asyncio\n",
    "import time\n",
    "\n",
    "async def brew_coffee_async():\n",
    "    print(\"Starting Brewing Coffee\")\n",
    "    await asyncio.sleep(3)\n",
    "    print(\"Coffee Ready\")\n",
    "\n",
    "async def toast_bagel_async():\n",
    "    print(\"Start Toasting bagel\")\n",
    "    await asyncio.sleep(2)\n",
    "    print(\"Bagel Ready\")\n",
    "\n",
    "async def main_individual():\n",
    "    start = time.time()\n",
    "    coffee_task = asyncio.create_task(brew_coffee_async())\n",
    "    bagel_task = asyncio.create_task(toast_bagel_async())\n",
    "\n",
    "    coffee = await coffee_task\n",
    "    bagel = await bagel_task\n",
    "\n",
    "    end = time.time()\n",
    "    print(f\"Time : {end - start:.2f} minutes\")\n",
    "\n",
    "\n",
    "await (main_individual())"
   ]
  }
 ],
 "metadata": {
  "kernelspec": {
   "display_name": "autogen3",
   "language": "python",
   "name": "python3"
  },
  "language_info": {
   "codemirror_mode": {
    "name": "ipython",
    "version": 3
   },
   "file_extension": ".py",
   "mimetype": "text/x-python",
   "name": "python",
   "nbconvert_exporter": "python",
   "pygments_lexer": "ipython3",
   "version": "3.12.9"
  }
 },
 "nbformat": 4,
 "nbformat_minor": 5
}
