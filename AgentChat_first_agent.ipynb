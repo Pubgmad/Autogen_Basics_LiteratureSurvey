{
 "cells": [
  {
   "cell_type": "markdown",
   "id": "1f62b6da",
   "metadata": {},
   "source": [
    "# Introduction to AgentChat API with First AssistantAgent"
   ]
  },
  {
   "cell_type": "code",
   "execution_count": 1,
   "id": "19df38bf",
   "metadata": {},
   "outputs": [],
   "source": [
    "from autogen_agentchat.agents import AssistantAgent\n",
    "from autogen_ext.models.openai import OpenAIChatCompletionClient\n",
    "from dotenv import load_dotenv\n",
    "import os\n",
    "\n",
    "load_dotenv()\n",
    "api_key = os.getenv('OPENAI_API_KEY')\n"
   ]
  },
  {
   "cell_type": "code",
   "execution_count": 2,
   "id": "48ff5fe5",
   "metadata": {},
   "outputs": [],
   "source": [
    "model_client = OpenAIChatCompletionClient(model = 'gpt-4o',api_key=api_key)"
   ]
  },
  {
   "cell_type": "markdown",
   "id": "b515c7a6",
   "metadata": {},
   "source": [
    "# Creating Our First AssistantAgent\n",
    "The AssistantAgent is a versatile agent for conversations, powered by AgentChat."
   ]
  },
  {
   "cell_type": "code",
   "execution_count": 3,
   "id": "4176b121",
   "metadata": {},
   "outputs": [],
   "source": [
    "assistant = AssistantAgent(name = \"assistant\",model_client=model_client,description='A Basic first Agent')"
   ]
  },
  {
   "cell_type": "markdown",
   "id": "e76c768b",
   "metadata": {},
   "source": [
    "# Testing the AssistantAgent\n",
    "We’ll use the run method to send a task and get a response."
   ]
  },
  {
   "cell_type": "code",
   "execution_count": null,
   "id": "e35a6bbb",
   "metadata": {},
   "outputs": [],
   "source": [
    "result = await assistant.run(task=\"What's the capital of USA & write some more about the same ?\")\n",
    "\n",
    "print(result)"
   ]
  },
  {
   "cell_type": "code",
   "execution_count": null,
   "id": "0297bc89",
   "metadata": {},
   "outputs": [],
   "source": [
    "print(result.messages[-1].content)"
   ]
  }
 ],
 "metadata": {
  "kernelspec": {
   "display_name": "autogen3",
   "language": "python",
   "name": "python3"
  },
  "language_info": {
   "codemirror_mode": {
    "name": "ipython",
    "version": 3
   },
   "file_extension": ".py",
   "mimetype": "text/x-python",
   "name": "python",
   "nbconvert_exporter": "python",
   "pygments_lexer": "ipython3",
   "version": "3.12.9"
  }
 },
 "nbformat": 4,
 "nbformat_minor": 5
}
